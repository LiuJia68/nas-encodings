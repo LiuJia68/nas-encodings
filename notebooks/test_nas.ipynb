{
 "cells": [
  {
   "cell_type": "markdown",
   "metadata": {},
   "source": [
    "# Run tests in nas_algorithms"
   ]
  },
  {
   "cell_type": "code",
   "execution_count": null,
   "metadata": {},
   "outputs": [],
   "source": [
    "%load_ext autoreload\n",
    "%autoreload 2\n",
    "%matplotlib inline"
   ]
  },
  {
   "cell_type": "code",
   "execution_count": null,
   "metadata": {},
   "outputs": [],
   "source": [
    "import argparse\n",
    "import time\n",
    "import logging\n",
    "import sys\n",
    "import os\n",
    "import pickle\n",
    "import numpy as np\n",
    "import copy\n",
    "\n",
    "sys.path.append('..')\n",
    "from params import *"
   ]
  },
  {
   "cell_type": "code",
   "execution_count": null,
   "metadata": {},
   "outputs": [],
   "source": [
    "# load the nasbench dataset\n",
    "search_space = 'nasbench'\n",
    "os.environ['search_space'] = search_space\n",
    "\n",
    "# the following imports need the correct env variable\n",
    "from nas_algorithms import run_nas_algorithm\n",
    "from data import Data\n",
    "\n",
    "metann_params = meta_neuralnet_params(search_space)\n",
    "mp = copy.deepcopy(metann_params)\n",
    "ss = mp.pop('search_space')\n",
    "dataset = mp.pop('dataset')\n",
    "search_space = Data(ss, dataset=dataset, nasbench_folder='../')"
   ]
  },
  {
   "cell_type": "code",
   "execution_count": null,
   "metadata": {},
   "outputs": [],
   "source": [
    "# set the experiment parameters\n",
    "params = 'test_algos'\n",
    "algorithm_params = algo_params(params)\n",
    "num_algos = len(algorithm_params)"
   ]
  },
  {
   "cell_type": "code",
   "execution_count": null,
   "metadata": {
    "scrolled": true
   },
   "outputs": [],
   "source": [
    "# test all algorithms\n",
    "for j in range(num_algos):\n",
    "    # run NAS algorithm\n",
    "    print('\\n* Running algorithm: {}'.format(algorithm_params[j]))\n",
    "    algo_result, run_datum = run_nas_algorithm(algorithm_params[j], search_space, mp)"
   ]
  },
  {
   "cell_type": "code",
   "execution_count": null,
   "metadata": {},
   "outputs": [],
   "source": [
    "# test all combinations of encodings + algorithms\n",
    "for params in ['bo_encodings', 'random_encodings', 'ls_encodings', 'bananas_encodings', 'evo_encodings']:\n",
    "\n",
    "    algorithm_params = algo_params(params, queries=20)\n",
    "    num_algos = len(algorithm_params)\n",
    "\n",
    "    for j in range(num_algos):\n",
    "        # run NAS algorithm\n",
    "        print('\\n* Running algorithm: {}'.format(algorithm_params[j]))\n",
    "        algo_result, run_datum = run_nas_algorithm(algorithm_params[j], search_space, mp)"
   ]
  },
  {
   "cell_type": "code",
   "execution_count": null,
   "metadata": {},
   "outputs": [],
   "source": []
  },
  {
   "cell_type": "code",
   "execution_count": null,
   "metadata": {},
   "outputs": [],
   "source": []
  },
  {
   "cell_type": "code",
   "execution_count": null,
   "metadata": {},
   "outputs": [],
   "source": []
  }
 ],
 "metadata": {
  "kernelspec": {
   "display_name": "Python 3",
   "language": "python",
   "name": "python3"
  },
  "language_info": {
   "codemirror_mode": {
    "name": "ipython",
    "version": 3
   },
   "file_extension": ".py",
   "mimetype": "text/x-python",
   "name": "python",
   "nbconvert_exporter": "python",
   "pygments_lexer": "ipython3",
   "version": "3.7.7"
  }
 },
 "nbformat": 4,
 "nbformat_minor": 2
}
